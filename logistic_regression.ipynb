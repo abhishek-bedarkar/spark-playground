{
 "cells": [
  {
   "cell_type": "code",
   "execution_count": 0,
   "metadata": {
    "application/vnd.databricks.v1+cell": {
     "cellMetadata": {
      "byteLimit": 2048000,
      "rowLimit": 10000
     },
     "inputWidgets": {},
     "nuid": "49a4e17c-519b-445b-9ab0-288a5102a255",
     "showTitle": false,
     "title": ""
    }
   },
   "outputs": [],
   "source": [
    "from pyspark.sql import SparkSession"
   ]
  },
  {
   "cell_type": "code",
   "execution_count": 0,
   "metadata": {
    "application/vnd.databricks.v1+cell": {
     "cellMetadata": {
      "byteLimit": 2048000,
      "rowLimit": 10000
     },
     "inputWidgets": {},
     "nuid": "25cc70f0-3cce-4fb2-ada9-cc5e4d6d0063",
     "showTitle": false,
     "title": ""
    }
   },
   "outputs": [],
   "source": [
    "spark  = SparkSession.builder.appName('Logistic regression').getOrCreate()"
   ]
  },
  {
   "cell_type": "code",
   "execution_count": 0,
   "metadata": {
    "application/vnd.databricks.v1+cell": {
     "cellMetadata": {
      "byteLimit": 2048000,
      "rowLimit": 10000
     },
     "inputWidgets": {},
     "nuid": "dffd6ac3-bc2e-48f2-b251-378488bcb982",
     "showTitle": false,
     "title": ""
    }
   },
   "outputs": [],
   "source": [
    "from pyspark.ml.classification import LogisticRegression"
   ]
  },
  {
   "cell_type": "code",
   "execution_count": 0,
   "metadata": {
    "application/vnd.databricks.v1+cell": {
     "cellMetadata": {
      "byteLimit": 2048000,
      "rowLimit": 10000
     },
     "inputWidgets": {},
     "nuid": "22f837e3-dc8c-4645-b21a-1af07dd9ee2d",
     "showTitle": false,
     "title": ""
    }
   },
   "outputs": [],
   "source": [
    "df = spark.read.format('libsvm').load('dbfs:/FileStore/shared_uploads/abhishekbedarkar28@gmail.com/sample_libsvm_data.txt')"
   ]
  },
  {
   "cell_type": "code",
   "execution_count": 0,
   "metadata": {
    "application/vnd.databricks.v1+cell": {
     "cellMetadata": {
      "byteLimit": 2048000,
      "rowLimit": 10000
     },
     "inputWidgets": {},
     "nuid": "7a103cf6-fed4-414c-9404-59f2802748f7",
     "showTitle": false,
     "title": ""
    }
   },
   "outputs": [
    {
     "output_type": "stream",
     "name": "stdout",
     "output_type": "stream",
     "text": [
      "+-----+--------------------+\n|label|            features|\n+-----+--------------------+\n|  0.0|(692,[127,128,129...|\n|  1.0|(692,[158,159,160...|\n|  1.0|(692,[124,125,126...|\n|  1.0|(692,[152,153,154...|\n|  1.0|(692,[151,152,153...|\n+-----+--------------------+\nonly showing top 5 rows\n\n"
     ]
    }
   ],
   "source": [
    "df.show(5)"
   ]
  },
  {
   "cell_type": "code",
   "execution_count": 0,
   "metadata": {
    "application/vnd.databricks.v1+cell": {
     "cellMetadata": {
      "byteLimit": 2048000,
      "rowLimit": 10000
     },
     "inputWidgets": {},
     "nuid": "994320db-342e-4511-b18c-c3f2b78dc625",
     "showTitle": false,
     "title": ""
    }
   },
   "outputs": [],
   "source": [
    "train_data,test_data = df.randomSplit([0.7,0.3])"
   ]
  },
  {
   "cell_type": "code",
   "execution_count": 0,
   "metadata": {
    "application/vnd.databricks.v1+cell": {
     "cellMetadata": {
      "byteLimit": 2048000,
      "rowLimit": 10000
     },
     "inputWidgets": {},
     "nuid": "0cfda23c-cf3c-4f29-b7c4-1513b51bf818",
     "showTitle": false,
     "title": ""
    }
   },
   "outputs": [
    {
     "output_type": "stream",
     "name": "stdout",
     "output_type": "stream",
     "text": [
      "+-------+------------------+\n|summary|             label|\n+-------+------------------+\n|  count|                71|\n|   mean|0.5915492957746479|\n| stddev|0.4950458792225335|\n|    min|               0.0|\n|    max|               1.0|\n+-------+------------------+\n\n"
     ]
    }
   ],
   "source": [
    "train_data.describe().show()"
   ]
  },
  {
   "cell_type": "code",
   "execution_count": 0,
   "metadata": {
    "application/vnd.databricks.v1+cell": {
     "cellMetadata": {
      "byteLimit": 2048000,
      "rowLimit": 10000
     },
     "inputWidgets": {},
     "nuid": "14e51c59-b482-4783-bf63-8b21482219c7",
     "showTitle": false,
     "title": ""
    }
   },
   "outputs": [
    {
     "output_type": "stream",
     "name": "stdout",
     "output_type": "stream",
     "text": [
      "+-------+------------------+\n|summary|             label|\n+-------+------------------+\n|  count|                29|\n|   mean|0.5172413793103449|\n| stddev|0.5085476277156078|\n|    min|               0.0|\n|    max|               1.0|\n+-------+------------------+\n\n"
     ]
    }
   ],
   "source": [
    "test_data.describe().show()"
   ]
  },
  {
   "cell_type": "code",
   "execution_count": 0,
   "metadata": {
    "application/vnd.databricks.v1+cell": {
     "cellMetadata": {
      "byteLimit": 2048000,
      "rowLimit": 10000
     },
     "inputWidgets": {},
     "nuid": "5c4f3db8-5d3a-47d1-b1eb-ffe2c95bdb7c",
     "showTitle": false,
     "title": ""
    }
   },
   "outputs": [],
   "source": [
    "lr = LogisticRegression(featuresCol='features', labelCol='label')\n",
    "lr_model = lr.fit(train_data)\n",
    "result = lr_model.evaluate(test_data)"
   ]
  },
  {
   "cell_type": "code",
   "execution_count": 0,
   "metadata": {
    "application/vnd.databricks.v1+cell": {
     "cellMetadata": {
      "byteLimit": 2048000,
      "rowLimit": 10000
     },
     "inputWidgets": {},
     "nuid": "1f3c2d3b-6936-4c30-b13f-4aedffbece18",
     "showTitle": false,
     "title": ""
    }
   },
   "outputs": [
    {
     "output_type": "stream",
     "name": "stdout",
     "output_type": "stream",
     "text": [
      "+-----+--------------------+--------------------+--------------------+----------+\n|label|            features|       rawPrediction|         probability|prediction|\n+-----+--------------------+--------------------+--------------------+----------+\n|  0.0|(692,[98,99,100,1...|[32.5264195908166...|[0.99999999999999...|       0.0|\n|  0.0|(692,[123,124,125...|[37.1581517618554...|           [1.0,0.0]|       0.0|\n|  0.0|(692,[124,125,126...|[90.6316078411614...|           [1.0,0.0]|       0.0|\n|  0.0|(692,[124,125,126...|[40.9759135055736...|           [1.0,0.0]|       0.0|\n|  0.0|(692,[124,125,126...|[23.1113594625441...|[0.99999999990819...|       0.0|\n|  0.0|(692,[124,125,126...|[31.0983446759824...|[0.99999999999996...|       0.0|\n|  0.0|(692,[126,127,128...|[18.2292827084885...|[0.99999998789058...|       0.0|\n|  0.0|(692,[126,127,128...|[34.5187290130072...|[0.99999999999999...|       0.0|\n|  0.0|(692,[127,128,129...|[27.3268466256114...|[0.99999999999864...|       0.0|\n|  0.0|(692,[128,129,130...|[26.3078019035870...|[0.99999999999624...|       0.0|\n|  0.0|(692,[129,130,131...|[18.5322452817676...|[0.99999999105566...|       0.0|\n|  0.0|(692,[150,151,152...|[24.2979474867928...|[0.99999999997197...|       0.0|\n|  0.0|(692,[155,156,180...|[62.4506074049411...|           [1.0,0.0]|       0.0|\n|  0.0|(692,[181,182,183...|[73.1874800527759...|           [1.0,0.0]|       0.0|\n|  1.0|(692,[99,100,101,...|[0.49195071329334...|[0.62056586275723...|       0.0|\n|  1.0|(692,[125,126,127...|[-19.103795781543...|[5.05041314257890...|       1.0|\n|  1.0|(692,[125,126,153...|[-21.436543524425...|[4.90035379232050...|       1.0|\n|  1.0|(692,[126,127,128...|[-22.640159769543...|[1.47063041154271...|       1.0|\n|  1.0|(692,[126,127,128...|[-21.195565504917...|[6.23566621583452...|       1.0|\n|  1.0|(692,[127,128,129...|[-19.693580904719...|[2.80018344029769...|       1.0|\n+-----+--------------------+--------------------+--------------------+----------+\nonly showing top 20 rows\n\n"
     ]
    }
   ],
   "source": [
    "result.predictions.show()"
   ]
  },
  {
   "cell_type": "code",
   "execution_count": 0,
   "metadata": {
    "application/vnd.databricks.v1+cell": {
     "cellMetadata": {
      "byteLimit": 2048000,
      "rowLimit": 10000
     },
     "inputWidgets": {},
     "nuid": "a276f92f-eeb7-4edd-a60c-72d27454b404",
     "showTitle": false,
     "title": ""
    }
   },
   "outputs": [
    {
     "output_type": "stream",
     "name": "stdout",
     "output_type": "stream",
     "text": [
      "Out[19]: 1.0"
     ]
    }
   ],
   "source": [
    "result.areaUnderROC"
   ]
  }
 ],
 "metadata": {
  "application/vnd.databricks.v1+notebook": {
   "dashboards": [],
   "language": "python",
   "notebookMetadata": {
    "pythonIndentUnit": 4
   },
   "notebookName": "logistic_regression",
   "widgets": {}
  }
 },
 "nbformat": 4,
 "nbformat_minor": 0
}
