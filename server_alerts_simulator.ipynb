{
 "cells": [
  {
   "cell_type": "code",
   "execution_count": 1,
   "id": "af23b511-1c43-4751-be2a-82ca879a2963",
   "metadata": {},
   "outputs": [
    {
     "name": "stderr",
     "output_type": "stream",
     "text": [
      "/tmp/ipykernel_3857576/1665904048.py:1: DeprecationWarning: \n",
      "Pyarrow will become a required dependency of pandas in the next major release of pandas (pandas 3.0),\n",
      "(to allow more performant data types, such as the Arrow string type, and better interoperability with other libraries)\n",
      "but was not found to be installed on your system.\n",
      "If this would cause problems for you,\n",
      "please provide us feedback at https://github.com/pandas-dev/pandas/issues/54466\n",
      "        \n",
      "  import pandas as pd\n"
     ]
    },
    {
     "ename": "OSError",
     "evalue": "[Errno 98] Address already in use",
     "output_type": "error",
     "traceback": [
      "\u001b[0;31m---------------------------------------------------------------------------\u001b[0m",
      "\u001b[0;31mOSError\u001b[0m                                   Traceback (most recent call last)",
      "Cell \u001b[0;32mIn[1], line 72\u001b[0m\n\u001b[1;32m     70\u001b[0m generator \u001b[38;5;241m=\u001b[39m AlertDataGenerator()\n\u001b[1;32m     71\u001b[0m \u001b[38;5;66;03m# Send data continuously to port 9999\u001b[39;00m\n\u001b[0;32m---> 72\u001b[0m \u001b[43mgenerator\u001b[49m\u001b[38;5;241;43m.\u001b[39;49m\u001b[43msend_data_to_port\u001b[49m\u001b[43m(\u001b[49m\u001b[38;5;241;43m9999\u001b[39;49m\u001b[43m)\u001b[49m\n",
      "Cell \u001b[0;32mIn[1], line 53\u001b[0m, in \u001b[0;36mAlertDataGenerator.send_data_to_port\u001b[0;34m(self, port)\u001b[0m\n\u001b[1;32m     51\u001b[0m \u001b[38;5;28;01mdef\u001b[39;00m \u001b[38;5;21msend_data_to_port\u001b[39m(\u001b[38;5;28mself\u001b[39m, port):\n\u001b[1;32m     52\u001b[0m     \u001b[38;5;28;01mwith\u001b[39;00m socket\u001b[38;5;241m.\u001b[39msocket(socket\u001b[38;5;241m.\u001b[39mAF_INET, socket\u001b[38;5;241m.\u001b[39mSOCK_STREAM) \u001b[38;5;28;01mas\u001b[39;00m s:\n\u001b[0;32m---> 53\u001b[0m         \u001b[43ms\u001b[49m\u001b[38;5;241;43m.\u001b[39;49m\u001b[43mbind\u001b[49m\u001b[43m(\u001b[49m\u001b[43m(\u001b[49m\u001b[38;5;124;43m'\u001b[39;49m\u001b[38;5;124;43mlocalhost\u001b[39;49m\u001b[38;5;124;43m'\u001b[39;49m\u001b[43m,\u001b[49m\u001b[43m \u001b[49m\u001b[43mport\u001b[49m\u001b[43m)\u001b[49m\u001b[43m)\u001b[49m\n\u001b[1;32m     54\u001b[0m         s\u001b[38;5;241m.\u001b[39mlisten()\n\u001b[1;32m     56\u001b[0m         \u001b[38;5;28mprint\u001b[39m(\u001b[38;5;124mf\u001b[39m\u001b[38;5;124m\"\u001b[39m\u001b[38;5;124mServer listening on port \u001b[39m\u001b[38;5;132;01m{\u001b[39;00mport\u001b[38;5;132;01m}\u001b[39;00m\u001b[38;5;124m\"\u001b[39m)\n",
      "\u001b[0;31mOSError\u001b[0m: [Errno 98] Address already in use"
     ]
    }
   ],
   "source": [
    "import pandas as pd\n",
    "from datetime import datetime, timedelta\n",
    "import random\n",
    "import socket\n",
    "import time\n",
    "class AlertDataGenerator:\n",
    "    server_types = ['Web Server', 'Database Server', 'Application Server']\n",
    "    location = ['US', 'Uk', 'India']\n",
    "    alert_states = ['Critical', 'Warning', 'Info']\n",
    "    alert_descriptions = [\n",
    "            'High CPU Usage',\n",
    "            'Low Disk Space',\n",
    "            'Network Connectivity Issue',\n",
    "            'Memory Usage Exceeded Threshold',\n",
    "        ]\n",
    "    \n",
    "    # Function to generate random server details\n",
    "    def generate_server_details(self, server_number):\n",
    "        return {\n",
    "            'Server Type': random.choice(self.server_types),\n",
    "            'Location': random.choice(self.location),\n",
    "            'IP Address': f'192.168.1.{server_number}',\n",
    "        }\n",
    "    \n",
    "    # Function to generate a random alert state\n",
    "    def generate_alert_state(self):\n",
    "        return random.choice(self.alert_states)\n",
    "    \n",
    "    # Function to generate a random alert description\n",
    "    def generate_alert_description(self):\n",
    "        return random.choice(self.alert_descriptions)\n",
    "    \n",
    "    # Function to create a dataset row\n",
    "    def create_alert_row(self, server_number):\n",
    "        timestamp = datetime.now().strftime('%Y-%m-%d %H:%M:%S')\n",
    "        server_details = self.generate_server_details(server_number)\n",
    "        alert_state = self.generate_alert_state()\n",
    "        alert_description = self.generate_alert_description()\n",
    "\n",
    "        node = {\n",
    "            'Timestamp': timestamp,\n",
    "            'Server Number': server_number,\n",
    "            **server_details,\n",
    "            'Alert State': alert_state,\n",
    "            'Alert Description': alert_description,\n",
    "        }\n",
    "\n",
    "        return node\n",
    "        \n",
    "    # Function to create a dataset and send rows to a given port\n",
    "    def send_data_to_port(self, port):\n",
    "        with socket.socket(socket.AF_INET, socket.SOCK_STREAM) as s:\n",
    "            s.bind(('localhost', port))\n",
    "            s.listen()\n",
    "\n",
    "            print(f\"Server listening on port {port}\")\n",
    "\n",
    "            conn, addr = s.accept()\n",
    "            print(f\"Connection from {addr}\")\n",
    "\n",
    "            while True:\n",
    "                num_entries = random.randint(0, 3)\n",
    "                for i in range(num_entries):\n",
    "                    row = self.create_alert_row(i + 1)\n",
    "                    data_string = pd.DataFrame([row]).to_csv(index=False, header=False).encode('utf-8') + b'\\n'\n",
    "                    conn.sendall(data_string)\n",
    "                time.sleep(1)  \n",
    "\n",
    "if __name__ == \"__main__\":\n",
    "    generator = AlertDataGenerator()\n",
    "    # Send data continuously to port 9998\n",
    "    generator.send_data_to_port(9998)"
   ]
  },
  {
   "cell_type": "code",
   "execution_count": null,
   "id": "97eeaa03-1dfc-4635-9b1c-da5429892ab3",
   "metadata": {},
   "outputs": [],
   "source": [
    "    "
   ]
  }
 ],
 "metadata": {
  "kernelspec": {
   "display_name": "Python 3 (ipykernel)",
   "language": "python",
   "name": "python3"
  },
  "language_info": {
   "codemirror_mode": {
    "name": "ipython",
    "version": 3
   },
   "file_extension": ".py",
   "mimetype": "text/x-python",
   "name": "python",
   "nbconvert_exporter": "python",
   "pygments_lexer": "ipython3",
   "version": "3.10.12"
  }
 },
 "nbformat": 4,
 "nbformat_minor": 5
}
