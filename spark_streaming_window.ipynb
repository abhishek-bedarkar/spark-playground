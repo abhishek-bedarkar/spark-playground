{
 "cells": [
  {
   "cell_type": "code",
   "execution_count": 1,
   "id": "1144a370-c7dc-417c-a429-5181d65391aa",
   "metadata": {},
   "outputs": [],
   "source": [
    "from pyspark.sql import SparkSession\n",
    "from pyspark.sql.functions import split, window\n",
    "from pyspark.sql.types import StructType, StructField, StringType, TimestampType, IntegerType"
   ]
  },
  {
   "cell_type": "code",
   "execution_count": 2,
   "id": "790188ab-c757-456e-905f-817a9db0b1e9",
   "metadata": {
    "scrolled": true
   },
   "outputs": [
    {
     "name": "stderr",
     "output_type": "stream",
     "text": [
      "24/02/17 17:14:52 WARN Utils: Your hostname, Abhishek-ROG resolves to a loopback address: 127.0.1.1; using 172.20.83.248 instead (on interface eth0)\n",
      "24/02/17 17:14:52 WARN Utils: Set SPARK_LOCAL_IP if you need to bind to another address\n",
      "Setting default log level to \"WARN\".\n",
      "To adjust logging level use sc.setLogLevel(newLevel). For SparkR, use setLogLevel(newLevel).\n",
      "24/02/17 17:14:54 WARN NativeCodeLoader: Unable to load native-hadoop library for your platform... using builtin-java classes where applicable\n",
      "24/02/17 17:14:55 WARN Utils: Service 'SparkUI' could not bind on port 4040. Attempting port 4041.\n",
      "24/02/17 17:14:55 WARN Utils: Service 'SparkUI' could not bind on port 4041. Attempting port 4042.\n"
     ]
    }
   ],
   "source": [
    "spark = SparkSession.builder.appName(\"spark windowing app\").getOrCreate()"
   ]
  },
  {
   "cell_type": "code",
   "execution_count": 3,
   "id": "8c24bb7b-703a-4a67-870a-928cf3bbd56f",
   "metadata": {},
   "outputs": [
    {
     "name": "stderr",
     "output_type": "stream",
     "text": [
      "24/02/17 17:14:56 WARN TextSocketSourceProvider: The socket source should not be used for production applications! It does not support recovery.\n"
     ]
    }
   ],
   "source": [
    "data = spark.readStream.format(\"socket\").option(\"host\",\"localhost\").option(\"port\",9999).load()"
   ]
  },
  {
   "cell_type": "raw",
   "id": "8e61ecd8-4c30-44ac-8f23-399296874d58",
   "metadata": {},
   "source": [
    "# Data format \n",
    "# Timestamp,Server Number,Server Type,Location,IP Address,Alert State,Alert Description\n",
    "# 2024-02-16 18:08:20,4,Database Server,Data Center 2,192.168.1.4,Critical,Low Disk Space"
   ]
  },
  {
   "cell_type": "code",
   "execution_count": 4,
   "id": "420696fd-d2c3-464b-bda3-b8afa6faec99",
   "metadata": {},
   "outputs": [],
   "source": [
    "structured_data_df = data.selectExpr(\"split(value, ',') as data\") \\\n",
    "    .selectExpr(\n",
    "        \"CAST(data[0] AS TIMESTAMP) as Timestamp\",\n",
    "        \"CAST(data[1] AS INT) as ServerNumber\",\n",
    "        \"CAST(data[2] AS STRING) as ServerType\",\n",
    "        \"CAST(data[3] AS STRING) as Location\",\n",
    "        \"CAST(data[4] AS STRING) as IPAddress\",\n",
    "        \"CAST(data[5] AS STRING) as AlertState\",\n",
    "        \"CAST(data[6] AS STRING) as AlertDescription\"\n",
    "    )\n",
    "\n",
    "filtered_alerts = structured_data_df.na.drop()"
   ]
  },
  {
   "cell_type": "code",
   "execution_count": 5,
   "id": "bbc947ee-2851-4e7b-9692-96d22914f2ac",
   "metadata": {},
   "outputs": [],
   "source": [
    "grouped_alerts = filtered_alerts.withWatermark('Timestamp','5 minutes').groupBy(window('Timestamp', '5 minutes', '5 minutes'), 'ServerType', 'Location', 'AlertState').count()"
   ]
  },
  {
   "cell_type": "code",
   "execution_count": 6,
   "id": "895f3129-679b-4022-9ec8-bf111d1144c8",
   "metadata": {},
   "outputs": [
    {
     "name": "stderr",
     "output_type": "stream",
     "text": [
      "24/02/17 17:14:57 WARN ResolveWriteToStream: Temporary checkpoint location created which is deleted normally when the query didn't fail: /tmp/temporary-87c4f002-a7ea-43ee-88f6-d1c68377b683. If it's required to delete it under any circumstances, please set spark.sql.streaming.forceDeleteTempCheckpointLocation to true. Important to know deleting temp checkpoint folder is best effort.\n",
      "24/02/17 17:14:57 WARN ResolveWriteToStream: spark.sql.adaptive.enabled is not supported in streaming DataFrames/Datasets and will be disabled.\n",
      "                                                                                \r"
     ]
    },
    {
     "name": "stdout",
     "output_type": "stream",
     "text": [
      "-------------------------------------------\n",
      "Batch: 0\n",
      "-------------------------------------------\n",
      "+------+----------+--------+----------+-----+\n",
      "|window|ServerType|Location|AlertState|count|\n",
      "+------+----------+--------+----------+-----+\n",
      "+------+----------+--------+----------+-----+\n",
      "\n"
     ]
    },
    {
     "name": "stderr",
     "output_type": "stream",
     "text": [
      "                                                                                \r"
     ]
    },
    {
     "name": "stdout",
     "output_type": "stream",
     "text": [
      "-------------------------------------------\n",
      "Batch: 1\n",
      "-------------------------------------------\n",
      "+--------------------+------------------+--------+----------+-----+\n",
      "|              window|        ServerType|Location|AlertState|count|\n",
      "+--------------------+------------------+--------+----------+-----+\n",
      "|{2024-02-17 17:10...|   Database Server|   India|      Info|    1|\n",
      "|{2024-02-17 17:10...|        Web Server|      Uk|  Critical|    1|\n",
      "|{2024-02-17 17:10...|Application Server|   India|      Info|    1|\n",
      "+--------------------+------------------+--------+----------+-----+\n",
      "\n"
     ]
    },
    {
     "name": "stderr",
     "output_type": "stream",
     "text": [
      "                                                                                \r"
     ]
    },
    {
     "name": "stdout",
     "output_type": "stream",
     "text": [
      "-------------------------------------------\n",
      "Batch: 2\n",
      "-------------------------------------------\n",
      "+--------------------+------------------+--------+----------+-----+\n",
      "|              window|        ServerType|Location|AlertState|count|\n",
      "+--------------------+------------------+--------+----------+-----+\n",
      "|{2024-02-17 17:10...|   Database Server|   India|      Info|    1|\n",
      "|{2024-02-17 17:10...|        Web Server|      Uk|  Critical|    1|\n",
      "|{2024-02-17 17:10...|Application Server|   India|      Info|    1|\n",
      "|{2024-02-17 17:15...|   Database Server|      Uk|  Critical|    1|\n",
      "|{2024-02-17 17:15...|   Database Server|      US|      Info|    2|\n",
      "|{2024-02-17 17:15...|        Web Server|      Uk|      Info|    1|\n",
      "|{2024-02-17 17:15...|        Web Server|   India|  Critical|    1|\n",
      "+--------------------+------------------+--------+----------+-----+\n",
      "\n"
     ]
    },
    {
     "name": "stderr",
     "output_type": "stream",
     "text": [
      "                                                                                \r"
     ]
    },
    {
     "name": "stdout",
     "output_type": "stream",
     "text": [
      "-------------------------------------------\n",
      "Batch: 3\n",
      "-------------------------------------------\n",
      "+--------------------+------------------+--------+----------+-----+\n",
      "|              window|        ServerType|Location|AlertState|count|\n",
      "+--------------------+------------------+--------+----------+-----+\n",
      "|{2024-02-17 17:10...|   Database Server|   India|      Info|    1|\n",
      "|{2024-02-17 17:10...|        Web Server|      Uk|  Critical|    1|\n",
      "|{2024-02-17 17:15...|        Web Server|   India|      Info|    1|\n",
      "|{2024-02-17 17:10...|Application Server|   India|      Info|    1|\n",
      "|{2024-02-17 17:15...|   Database Server|      Uk|  Critical|    1|\n",
      "|{2024-02-17 17:15...|   Database Server|      US|      Info|    2|\n",
      "|{2024-02-17 17:15...|        Web Server|      Uk|      Info|    1|\n",
      "|{2024-02-17 17:15...|        Web Server|   India|  Critical|    1|\n",
      "|{2024-02-17 17:15...|        Web Server|      US|  Critical|    2|\n",
      "+--------------------+------------------+--------+----------+-----+\n",
      "\n"
     ]
    },
    {
     "name": "stderr",
     "output_type": "stream",
     "text": [
      "                                                                                \r"
     ]
    },
    {
     "name": "stdout",
     "output_type": "stream",
     "text": [
      "-------------------------------------------\n",
      "Batch: 4\n",
      "-------------------------------------------\n",
      "+--------------------+------------------+--------+----------+-----+\n",
      "|              window|        ServerType|Location|AlertState|count|\n",
      "+--------------------+------------------+--------+----------+-----+\n",
      "|{2024-02-17 17:10...|   Database Server|   India|      Info|    1|\n",
      "|{2024-02-17 17:15...|        Web Server|      Uk|   Warning|    1|\n",
      "|{2024-02-17 17:15...|   Database Server|      US|  Critical|    1|\n",
      "|{2024-02-17 17:15...|Application Server|      US|      Info|    1|\n",
      "|{2024-02-17 17:10...|        Web Server|      Uk|  Critical|    1|\n",
      "|{2024-02-17 17:15...|        Web Server|   India|      Info|    1|\n",
      "|{2024-02-17 17:10...|Application Server|   India|      Info|    1|\n",
      "|{2024-02-17 17:15...|   Database Server|      Uk|  Critical|    1|\n",
      "|{2024-02-17 17:15...|   Database Server|      US|      Info|    2|\n",
      "|{2024-02-17 17:15...|        Web Server|      Uk|      Info|    1|\n",
      "|{2024-02-17 17:15...|        Web Server|   India|  Critical|    1|\n",
      "|{2024-02-17 17:15...|        Web Server|      US|  Critical|    2|\n",
      "+--------------------+------------------+--------+----------+-----+\n",
      "\n"
     ]
    },
    {
     "name": "stderr",
     "output_type": "stream",
     "text": [
      "                                                                                \r"
     ]
    },
    {
     "name": "stdout",
     "output_type": "stream",
     "text": [
      "-------------------------------------------\n",
      "Batch: 5\n",
      "-------------------------------------------\n",
      "+--------------------+------------------+--------+----------+-----+\n",
      "|              window|        ServerType|Location|AlertState|count|\n",
      "+--------------------+------------------+--------+----------+-----+\n",
      "|{2024-02-17 17:10...|   Database Server|   India|      Info|    1|\n",
      "|{2024-02-17 17:15...|        Web Server|      Uk|   Warning|    1|\n",
      "|{2024-02-17 17:15...|   Database Server|      US|  Critical|    1|\n",
      "|{2024-02-17 17:15...|Application Server|      US|      Info|    1|\n",
      "|{2024-02-17 17:10...|        Web Server|      Uk|  Critical|    1|\n",
      "|{2024-02-17 17:15...|        Web Server|   India|      Info|    1|\n",
      "|{2024-02-17 17:10...|Application Server|   India|      Info|    1|\n",
      "|{2024-02-17 17:15...|   Database Server|      Uk|  Critical|    1|\n",
      "|{2024-02-17 17:15...|   Database Server|      US|      Info|    2|\n",
      "|{2024-02-17 17:15...|        Web Server|      Uk|      Info|    1|\n",
      "|{2024-02-17 17:15...|        Web Server|   India|  Critical|    1|\n",
      "|{2024-02-17 17:15...|        Web Server|      US|  Critical|    2|\n",
      "|{2024-02-17 17:15...|        Web Server|      US|      Info|    1|\n",
      "+--------------------+------------------+--------+----------+-----+\n",
      "\n"
     ]
    },
    {
     "name": "stderr",
     "output_type": "stream",
     "text": [
      "                                                                                \r"
     ]
    },
    {
     "name": "stdout",
     "output_type": "stream",
     "text": [
      "-------------------------------------------\n",
      "Batch: 6\n",
      "-------------------------------------------\n",
      "+--------------------+------------------+--------+----------+-----+\n",
      "|              window|        ServerType|Location|AlertState|count|\n",
      "+--------------------+------------------+--------+----------+-----+\n",
      "|{2024-02-17 17:10...|   Database Server|   India|      Info|    1|\n",
      "|{2024-02-17 17:15...|        Web Server|      Uk|   Warning|    1|\n",
      "|{2024-02-17 17:15...|   Database Server|      US|  Critical|    1|\n",
      "|{2024-02-17 17:15...|Application Server|      US|      Info|    1|\n",
      "|{2024-02-17 17:10...|        Web Server|      Uk|  Critical|    1|\n",
      "|{2024-02-17 17:15...|        Web Server|   India|      Info|    1|\n",
      "|{2024-02-17 17:10...|Application Server|   India|      Info|    1|\n",
      "|{2024-02-17 17:15...|   Database Server|      Uk|  Critical|    1|\n",
      "|{2024-02-17 17:15...|Application Server|      Uk|   Warning|    1|\n",
      "|{2024-02-17 17:15...|   Database Server|      US|      Info|    2|\n",
      "|{2024-02-17 17:15...|        Web Server|      Uk|      Info|    1|\n",
      "|{2024-02-17 17:15...|        Web Server|   India|  Critical|    1|\n",
      "|{2024-02-17 17:15...|        Web Server|      US|  Critical|    4|\n",
      "|{2024-02-17 17:15...|        Web Server|      US|      Info|    1|\n",
      "+--------------------+------------------+--------+----------+-----+\n",
      "\n"
     ]
    },
    {
     "name": "stderr",
     "output_type": "stream",
     "text": [
      "                                                                                \r"
     ]
    },
    {
     "name": "stdout",
     "output_type": "stream",
     "text": [
      "-------------------------------------------\n",
      "Batch: 7\n",
      "-------------------------------------------\n",
      "+--------------------+------------------+--------+----------+-----+\n",
      "|              window|        ServerType|Location|AlertState|count|\n",
      "+--------------------+------------------+--------+----------+-----+\n",
      "|{2024-02-17 17:10...|   Database Server|   India|      Info|    1|\n",
      "|{2024-02-17 17:15...|        Web Server|      Uk|   Warning|    1|\n",
      "|{2024-02-17 17:15...|   Database Server|      US|  Critical|    1|\n",
      "|{2024-02-17 17:15...|Application Server|      US|      Info|    2|\n",
      "|{2024-02-17 17:10...|        Web Server|      Uk|  Critical|    1|\n",
      "|{2024-02-17 17:15...|        Web Server|   India|      Info|    1|\n",
      "|{2024-02-17 17:10...|Application Server|   India|      Info|    1|\n",
      "|{2024-02-17 17:15...|   Database Server|      Uk|  Critical|    1|\n",
      "|{2024-02-17 17:15...|Application Server|      Uk|   Warning|    1|\n",
      "|{2024-02-17 17:15...|   Database Server|      US|      Info|    2|\n",
      "|{2024-02-17 17:15...|        Web Server|      Uk|      Info|    1|\n",
      "|{2024-02-17 17:15...|        Web Server|   India|  Critical|    2|\n",
      "|{2024-02-17 17:15...|        Web Server|      US|  Critical|    4|\n",
      "|{2024-02-17 17:15...|        Web Server|      US|      Info|    1|\n",
      "+--------------------+------------------+--------+----------+-----+\n",
      "\n"
     ]
    },
    {
     "name": "stderr",
     "output_type": "stream",
     "text": [
      "                                                                                \r"
     ]
    },
    {
     "name": "stdout",
     "output_type": "stream",
     "text": [
      "-------------------------------------------\n",
      "Batch: 8\n",
      "-------------------------------------------\n",
      "+--------------------+------------------+--------+----------+-----+\n",
      "|              window|        ServerType|Location|AlertState|count|\n",
      "+--------------------+------------------+--------+----------+-----+\n",
      "|{2024-02-17 17:10...|   Database Server|   India|      Info|    1|\n",
      "|{2024-02-17 17:15...|        Web Server|      Uk|   Warning|    1|\n",
      "|{2024-02-17 17:15...|   Database Server|      US|  Critical|    1|\n",
      "|{2024-02-17 17:15...|Application Server|      US|      Info|    2|\n",
      "|{2024-02-17 17:10...|        Web Server|      Uk|  Critical|    1|\n",
      "|{2024-02-17 17:15...|        Web Server|   India|      Info|    1|\n",
      "|{2024-02-17 17:10...|Application Server|   India|      Info|    1|\n",
      "|{2024-02-17 17:15...|   Database Server|      Uk|  Critical|    1|\n",
      "|{2024-02-17 17:15...|Application Server|      Uk|   Warning|    1|\n",
      "|{2024-02-17 17:15...|   Database Server|      US|      Info|    2|\n",
      "|{2024-02-17 17:15...|        Web Server|      Uk|      Info|    1|\n",
      "|{2024-02-17 17:15...|        Web Server|   India|  Critical|    2|\n",
      "|{2024-02-17 17:15...|        Web Server|      US|  Critical|    4|\n",
      "|{2024-02-17 17:15...|        Web Server|      US|      Info|    2|\n",
      "+--------------------+------------------+--------+----------+-----+\n",
      "\n"
     ]
    },
    {
     "name": "stderr",
     "output_type": "stream",
     "text": [
      "                                                                                \r"
     ]
    },
    {
     "name": "stdout",
     "output_type": "stream",
     "text": [
      "-------------------------------------------\n",
      "Batch: 9\n",
      "-------------------------------------------\n",
      "+--------------------+------------------+--------+----------+-----+\n",
      "|              window|        ServerType|Location|AlertState|count|\n",
      "+--------------------+------------------+--------+----------+-----+\n",
      "|{2024-02-17 17:10...|   Database Server|   India|      Info|    1|\n",
      "|{2024-02-17 17:15...|        Web Server|      Uk|   Warning|    1|\n",
      "|{2024-02-17 17:15...|   Database Server|      US|  Critical|    1|\n",
      "|{2024-02-17 17:15...|Application Server|      US|      Info|    2|\n",
      "|{2024-02-17 17:10...|        Web Server|      Uk|  Critical|    1|\n",
      "|{2024-02-17 17:15...|        Web Server|   India|      Info|    1|\n",
      "|{2024-02-17 17:15...|   Database Server|      Uk|   Warning|    1|\n",
      "|{2024-02-17 17:10...|Application Server|   India|      Info|    1|\n",
      "|{2024-02-17 17:15...|   Database Server|      Uk|  Critical|    1|\n",
      "|{2024-02-17 17:15...|Application Server|      Uk|   Warning|    1|\n",
      "|{2024-02-17 17:15...|   Database Server|      US|      Info|    2|\n",
      "|{2024-02-17 17:15...|        Web Server|      Uk|      Info|    1|\n",
      "|{2024-02-17 17:15...|        Web Server|   India|  Critical|    2|\n",
      "|{2024-02-17 17:15...|        Web Server|      US|  Critical|    4|\n",
      "|{2024-02-17 17:15...|        Web Server|      US|      Info|    2|\n",
      "+--------------------+------------------+--------+----------+-----+\n",
      "\n"
     ]
    },
    {
     "name": "stderr",
     "output_type": "stream",
     "text": [
      "ERROR:root:KeyboardInterrupt while sending command.            (142 + 16) / 200]\n",
      "Traceback (most recent call last):\n",
      "  File \"/home/abhishek/.local/lib/python3.10/site-packages/py4j/java_gateway.py\", line 1038, in send_command\n",
      "    response = connection.send_command(command)\n",
      "  File \"/home/abhishek/.local/lib/python3.10/site-packages/py4j/clientserver.py\", line 511, in send_command\n",
      "    answer = smart_decode(self.stream.readline()[:-1])\n",
      "  File \"/usr/lib/python3.10/socket.py\", line 705, in readinto\n",
      "    return self._sock.recv_into(b)\n",
      "KeyboardInterrupt\n"
     ]
    },
    {
     "name": "stdout",
     "output_type": "stream",
     "text": [
      "-------------------------------------------\n",
      "Batch: 10\n",
      "-------------------------------------------\n",
      "+--------------------+------------------+--------+----------+-----+\n",
      "|              window|        ServerType|Location|AlertState|count|\n",
      "+--------------------+------------------+--------+----------+-----+\n",
      "|{2024-02-17 17:10...|   Database Server|   India|      Info|    1|\n",
      "|{2024-02-17 17:15...|        Web Server|      Uk|   Warning|    1|\n",
      "|{2024-02-17 17:15...|        Web Server|      Uk|  Critical|    1|\n",
      "|{2024-02-17 17:15...|   Database Server|      US|  Critical|    1|\n",
      "|{2024-02-17 17:15...|Application Server|      US|      Info|    2|\n",
      "|{2024-02-17 17:10...|        Web Server|      Uk|  Critical|    1|\n",
      "|{2024-02-17 17:15...|        Web Server|   India|      Info|    1|\n",
      "|{2024-02-17 17:15...|   Database Server|      Uk|   Warning|    1|\n",
      "|{2024-02-17 17:10...|Application Server|   India|      Info|    1|\n",
      "|{2024-02-17 17:15...|   Database Server|      US|   Warning|    1|\n",
      "|{2024-02-17 17:15...|   Database Server|      Uk|  Critical|    1|\n",
      "|{2024-02-17 17:15...|Application Server|      Uk|   Warning|    1|\n",
      "|{2024-02-17 17:15...|   Database Server|      US|      Info|    2|\n",
      "|{2024-02-17 17:15...|        Web Server|      Uk|      Info|    1|\n",
      "|{2024-02-17 17:15...|        Web Server|   India|  Critical|    2|\n",
      "|{2024-02-17 17:15...|        Web Server|      US|  Critical|    4|\n",
      "|{2024-02-17 17:15...|        Web Server|      US|      Info|    2|\n",
      "+--------------------+------------------+--------+----------+-----+\n",
      "\n"
     ]
    },
    {
     "name": "stderr",
     "output_type": "stream",
     "text": [
      "                                                                                \r"
     ]
    },
    {
     "ename": "KeyboardInterrupt",
     "evalue": "",
     "output_type": "error",
     "traceback": [
      "\u001b[0;31m---------------------------------------------------------------------------\u001b[0m",
      "\u001b[0;31mKeyboardInterrupt\u001b[0m                         Traceback (most recent call last)",
      "Cell \u001b[0;32mIn[6], line 2\u001b[0m\n\u001b[1;32m      1\u001b[0m query \u001b[38;5;241m=\u001b[39m grouped_alerts\u001b[38;5;241m.\u001b[39mwriteStream\u001b[38;5;241m.\u001b[39moutputMode(\u001b[38;5;124m\"\u001b[39m\u001b[38;5;124mcomplete\u001b[39m\u001b[38;5;124m\"\u001b[39m)\u001b[38;5;241m.\u001b[39mformat(\u001b[38;5;124m\"\u001b[39m\u001b[38;5;124mconsole\u001b[39m\u001b[38;5;124m\"\u001b[39m)\u001b[38;5;241m.\u001b[39mstart()\n\u001b[0;32m----> 2\u001b[0m \u001b[43mquery\u001b[49m\u001b[38;5;241;43m.\u001b[39;49m\u001b[43mawaitTermination\u001b[49m\u001b[43m(\u001b[49m\u001b[43m)\u001b[49m\n",
      "File \u001b[0;32m~/.local/lib/python3.10/site-packages/pyspark/sql/streaming/query.py:221\u001b[0m, in \u001b[0;36mStreamingQuery.awaitTermination\u001b[0;34m(self, timeout)\u001b[0m\n\u001b[1;32m    219\u001b[0m     \u001b[38;5;28;01mreturn\u001b[39;00m \u001b[38;5;28mself\u001b[39m\u001b[38;5;241m.\u001b[39m_jsq\u001b[38;5;241m.\u001b[39mawaitTermination(\u001b[38;5;28mint\u001b[39m(timeout \u001b[38;5;241m*\u001b[39m \u001b[38;5;241m1000\u001b[39m))\n\u001b[1;32m    220\u001b[0m \u001b[38;5;28;01melse\u001b[39;00m:\n\u001b[0;32m--> 221\u001b[0m     \u001b[38;5;28;01mreturn\u001b[39;00m \u001b[38;5;28;43mself\u001b[39;49m\u001b[38;5;241;43m.\u001b[39;49m\u001b[43m_jsq\u001b[49m\u001b[38;5;241;43m.\u001b[39;49m\u001b[43mawaitTermination\u001b[49m\u001b[43m(\u001b[49m\u001b[43m)\u001b[49m\n",
      "File \u001b[0;32m~/.local/lib/python3.10/site-packages/py4j/java_gateway.py:1321\u001b[0m, in \u001b[0;36mJavaMember.__call__\u001b[0;34m(self, *args)\u001b[0m\n\u001b[1;32m   1314\u001b[0m args_command, temp_args \u001b[38;5;241m=\u001b[39m \u001b[38;5;28mself\u001b[39m\u001b[38;5;241m.\u001b[39m_build_args(\u001b[38;5;241m*\u001b[39margs)\n\u001b[1;32m   1316\u001b[0m command \u001b[38;5;241m=\u001b[39m proto\u001b[38;5;241m.\u001b[39mCALL_COMMAND_NAME \u001b[38;5;241m+\u001b[39m\\\n\u001b[1;32m   1317\u001b[0m     \u001b[38;5;28mself\u001b[39m\u001b[38;5;241m.\u001b[39mcommand_header \u001b[38;5;241m+\u001b[39m\\\n\u001b[1;32m   1318\u001b[0m     args_command \u001b[38;5;241m+\u001b[39m\\\n\u001b[1;32m   1319\u001b[0m     proto\u001b[38;5;241m.\u001b[39mEND_COMMAND_PART\n\u001b[0;32m-> 1321\u001b[0m answer \u001b[38;5;241m=\u001b[39m \u001b[38;5;28;43mself\u001b[39;49m\u001b[38;5;241;43m.\u001b[39;49m\u001b[43mgateway_client\u001b[49m\u001b[38;5;241;43m.\u001b[39;49m\u001b[43msend_command\u001b[49m\u001b[43m(\u001b[49m\u001b[43mcommand\u001b[49m\u001b[43m)\u001b[49m\n\u001b[1;32m   1322\u001b[0m return_value \u001b[38;5;241m=\u001b[39m get_return_value(\n\u001b[1;32m   1323\u001b[0m     answer, \u001b[38;5;28mself\u001b[39m\u001b[38;5;241m.\u001b[39mgateway_client, \u001b[38;5;28mself\u001b[39m\u001b[38;5;241m.\u001b[39mtarget_id, \u001b[38;5;28mself\u001b[39m\u001b[38;5;241m.\u001b[39mname)\n\u001b[1;32m   1325\u001b[0m \u001b[38;5;28;01mfor\u001b[39;00m temp_arg \u001b[38;5;129;01min\u001b[39;00m temp_args:\n",
      "File \u001b[0;32m~/.local/lib/python3.10/site-packages/py4j/java_gateway.py:1038\u001b[0m, in \u001b[0;36mGatewayClient.send_command\u001b[0;34m(self, command, retry, binary)\u001b[0m\n\u001b[1;32m   1036\u001b[0m connection \u001b[38;5;241m=\u001b[39m \u001b[38;5;28mself\u001b[39m\u001b[38;5;241m.\u001b[39m_get_connection()\n\u001b[1;32m   1037\u001b[0m \u001b[38;5;28;01mtry\u001b[39;00m:\n\u001b[0;32m-> 1038\u001b[0m     response \u001b[38;5;241m=\u001b[39m \u001b[43mconnection\u001b[49m\u001b[38;5;241;43m.\u001b[39;49m\u001b[43msend_command\u001b[49m\u001b[43m(\u001b[49m\u001b[43mcommand\u001b[49m\u001b[43m)\u001b[49m\n\u001b[1;32m   1039\u001b[0m     \u001b[38;5;28;01mif\u001b[39;00m binary:\n\u001b[1;32m   1040\u001b[0m         \u001b[38;5;28;01mreturn\u001b[39;00m response, \u001b[38;5;28mself\u001b[39m\u001b[38;5;241m.\u001b[39m_create_connection_guard(connection)\n",
      "File \u001b[0;32m~/.local/lib/python3.10/site-packages/py4j/clientserver.py:511\u001b[0m, in \u001b[0;36mClientServerConnection.send_command\u001b[0;34m(self, command)\u001b[0m\n\u001b[1;32m    509\u001b[0m \u001b[38;5;28;01mtry\u001b[39;00m:\n\u001b[1;32m    510\u001b[0m     \u001b[38;5;28;01mwhile\u001b[39;00m \u001b[38;5;28;01mTrue\u001b[39;00m:\n\u001b[0;32m--> 511\u001b[0m         answer \u001b[38;5;241m=\u001b[39m smart_decode(\u001b[38;5;28;43mself\u001b[39;49m\u001b[38;5;241;43m.\u001b[39;49m\u001b[43mstream\u001b[49m\u001b[38;5;241;43m.\u001b[39;49m\u001b[43mreadline\u001b[49m\u001b[43m(\u001b[49m\u001b[43m)\u001b[49m[:\u001b[38;5;241m-\u001b[39m\u001b[38;5;241m1\u001b[39m])\n\u001b[1;32m    512\u001b[0m         logger\u001b[38;5;241m.\u001b[39mdebug(\u001b[38;5;124m\"\u001b[39m\u001b[38;5;124mAnswer received: \u001b[39m\u001b[38;5;132;01m{0}\u001b[39;00m\u001b[38;5;124m\"\u001b[39m\u001b[38;5;241m.\u001b[39mformat(answer))\n\u001b[1;32m    513\u001b[0m         \u001b[38;5;66;03m# Happens when a the other end is dead. There might be an empty\u001b[39;00m\n\u001b[1;32m    514\u001b[0m         \u001b[38;5;66;03m# answer before the socket raises an error.\u001b[39;00m\n",
      "File \u001b[0;32m/usr/lib/python3.10/socket.py:705\u001b[0m, in \u001b[0;36mSocketIO.readinto\u001b[0;34m(self, b)\u001b[0m\n\u001b[1;32m    703\u001b[0m \u001b[38;5;28;01mwhile\u001b[39;00m \u001b[38;5;28;01mTrue\u001b[39;00m:\n\u001b[1;32m    704\u001b[0m     \u001b[38;5;28;01mtry\u001b[39;00m:\n\u001b[0;32m--> 705\u001b[0m         \u001b[38;5;28;01mreturn\u001b[39;00m \u001b[38;5;28;43mself\u001b[39;49m\u001b[38;5;241;43m.\u001b[39;49m\u001b[43m_sock\u001b[49m\u001b[38;5;241;43m.\u001b[39;49m\u001b[43mrecv_into\u001b[49m\u001b[43m(\u001b[49m\u001b[43mb\u001b[49m\u001b[43m)\u001b[49m\n\u001b[1;32m    706\u001b[0m     \u001b[38;5;28;01mexcept\u001b[39;00m timeout:\n\u001b[1;32m    707\u001b[0m         \u001b[38;5;28mself\u001b[39m\u001b[38;5;241m.\u001b[39m_timeout_occurred \u001b[38;5;241m=\u001b[39m \u001b[38;5;28;01mTrue\u001b[39;00m\n",
      "\u001b[0;31mKeyboardInterrupt\u001b[0m: "
     ]
    },
    {
     "name": "stderr",
     "output_type": "stream",
     "text": [
      "                                                                                \r"
     ]
    },
    {
     "name": "stdout",
     "output_type": "stream",
     "text": [
      "-------------------------------------------\n",
      "Batch: 11\n",
      "-------------------------------------------\n",
      "+--------------------+------------------+--------+----------+-----+\n",
      "|              window|        ServerType|Location|AlertState|count|\n",
      "+--------------------+------------------+--------+----------+-----+\n",
      "|{2024-02-17 17:10...|   Database Server|   India|      Info|    1|\n",
      "|{2024-02-17 17:15...|        Web Server|      Uk|   Warning|    2|\n",
      "|{2024-02-17 17:15...|        Web Server|      Uk|  Critical|    1|\n",
      "|{2024-02-17 17:15...|   Database Server|      US|  Critical|    1|\n",
      "|{2024-02-17 17:15...|Application Server|      Uk|  Critical|    1|\n",
      "|{2024-02-17 17:15...|Application Server|      US|      Info|    2|\n",
      "|{2024-02-17 17:10...|        Web Server|      Uk|  Critical|    1|\n",
      "|{2024-02-17 17:15...|        Web Server|   India|      Info|    1|\n",
      "|{2024-02-17 17:15...|   Database Server|      Uk|   Warning|    1|\n",
      "|{2024-02-17 17:10...|Application Server|   India|      Info|    1|\n",
      "|{2024-02-17 17:15...|   Database Server|      US|   Warning|    1|\n",
      "|{2024-02-17 17:15...|   Database Server|      Uk|  Critical|    1|\n",
      "|{2024-02-17 17:15...|Application Server|      Uk|   Warning|    1|\n",
      "|{2024-02-17 17:15...|   Database Server|      US|      Info|    2|\n",
      "|{2024-02-17 17:15...|        Web Server|      Uk|      Info|    1|\n",
      "|{2024-02-17 17:15...|        Web Server|   India|  Critical|    2|\n",
      "|{2024-02-17 17:15...|        Web Server|      US|  Critical|    4|\n",
      "|{2024-02-17 17:15...|Application Server|   India|      Info|    1|\n",
      "|{2024-02-17 17:15...|        Web Server|      US|      Info|    2|\n",
      "+--------------------+------------------+--------+----------+-----+\n",
      "\n"
     ]
    },
    {
     "name": "stderr",
     "output_type": "stream",
     "text": [
      "                                                                                \r"
     ]
    },
    {
     "name": "stdout",
     "output_type": "stream",
     "text": [
      "-------------------------------------------\n",
      "Batch: 12\n",
      "-------------------------------------------\n",
      "+--------------------+------------------+--------+----------+-----+\n",
      "|              window|        ServerType|Location|AlertState|count|\n",
      "+--------------------+------------------+--------+----------+-----+\n",
      "|{2024-02-17 17:10...|   Database Server|   India|      Info|    1|\n",
      "|{2024-02-17 17:15...|        Web Server|      Uk|   Warning|    3|\n",
      "|{2024-02-17 17:15...|        Web Server|      Uk|  Critical|    1|\n",
      "|{2024-02-17 17:15...|   Database Server|      US|  Critical|    1|\n",
      "|{2024-02-17 17:15...|Application Server|      Uk|  Critical|    1|\n",
      "|{2024-02-17 17:15...|Application Server|      US|      Info|    2|\n",
      "|{2024-02-17 17:10...|        Web Server|      Uk|  Critical|    1|\n",
      "|{2024-02-17 17:15...|        Web Server|   India|      Info|    1|\n",
      "|{2024-02-17 17:15...|   Database Server|      Uk|   Warning|    1|\n",
      "|{2024-02-17 17:10...|Application Server|   India|      Info|    1|\n",
      "|{2024-02-17 17:15...|   Database Server|      US|   Warning|    1|\n",
      "|{2024-02-17 17:15...|   Database Server|      Uk|  Critical|    1|\n",
      "|{2024-02-17 17:15...|Application Server|      Uk|   Warning|    1|\n",
      "|{2024-02-17 17:15...|   Database Server|      US|      Info|    2|\n",
      "|{2024-02-17 17:15...|        Web Server|      Uk|      Info|    1|\n",
      "|{2024-02-17 17:15...|        Web Server|   India|  Critical|    2|\n",
      "|{2024-02-17 17:15...|        Web Server|      US|  Critical|    4|\n",
      "|{2024-02-17 17:15...|Application Server|   India|      Info|    2|\n",
      "|{2024-02-17 17:15...|Application Server|      US|  Critical|    1|\n",
      "|{2024-02-17 17:15...|        Web Server|      US|      Info|    2|\n",
      "+--------------------+------------------+--------+----------+-----+\n",
      "\n"
     ]
    },
    {
     "name": "stderr",
     "output_type": "stream",
     "text": [
      "                                                                                \r"
     ]
    },
    {
     "name": "stdout",
     "output_type": "stream",
     "text": [
      "-------------------------------------------\n",
      "Batch: 13\n",
      "-------------------------------------------\n",
      "+--------------------+------------------+--------+----------+-----+\n",
      "|              window|        ServerType|Location|AlertState|count|\n",
      "+--------------------+------------------+--------+----------+-----+\n",
      "|{2024-02-17 17:10...|   Database Server|   India|      Info|    1|\n",
      "|{2024-02-17 17:15...|        Web Server|      Uk|   Warning|    3|\n",
      "|{2024-02-17 17:15...|        Web Server|      Uk|  Critical|    2|\n",
      "|{2024-02-17 17:15...|   Database Server|      US|  Critical|    1|\n",
      "|{2024-02-17 17:15...|Application Server|      Uk|  Critical|    1|\n",
      "|{2024-02-17 17:15...|Application Server|      US|      Info|    3|\n",
      "|{2024-02-17 17:10...|        Web Server|      Uk|  Critical|    1|\n",
      "|{2024-02-17 17:15...|        Web Server|   India|      Info|    1|\n",
      "|{2024-02-17 17:15...|   Database Server|      Uk|   Warning|    1|\n",
      "|{2024-02-17 17:10...|Application Server|   India|      Info|    1|\n",
      "|{2024-02-17 17:15...|   Database Server|      US|   Warning|    1|\n",
      "|{2024-02-17 17:15...|   Database Server|      Uk|  Critical|    1|\n",
      "|{2024-02-17 17:15...|Application Server|      Uk|   Warning|    1|\n",
      "|{2024-02-17 17:15...|   Database Server|      US|      Info|    2|\n",
      "|{2024-02-17 17:15...|        Web Server|      Uk|      Info|    1|\n",
      "|{2024-02-17 17:15...|        Web Server|   India|  Critical|    2|\n",
      "|{2024-02-17 17:15...|        Web Server|      US|  Critical|    4|\n",
      "|{2024-02-17 17:15...|Application Server|   India|      Info|    3|\n",
      "|{2024-02-17 17:15...|Application Server|      US|  Critical|    1|\n",
      "|{2024-02-17 17:15...|        Web Server|      US|      Info|    2|\n",
      "+--------------------+------------------+--------+----------+-----+\n",
      "\n"
     ]
    },
    {
     "name": "stderr",
     "output_type": "stream",
     "text": [
      "                                                                                \r"
     ]
    },
    {
     "name": "stdout",
     "output_type": "stream",
     "text": [
      "-------------------------------------------\n",
      "Batch: 14\n",
      "-------------------------------------------\n",
      "+--------------------+------------------+--------+----------+-----+\n",
      "|              window|        ServerType|Location|AlertState|count|\n",
      "+--------------------+------------------+--------+----------+-----+\n",
      "|{2024-02-17 17:10...|   Database Server|   India|      Info|    1|\n",
      "|{2024-02-17 17:15...|        Web Server|      Uk|   Warning|    3|\n",
      "|{2024-02-17 17:15...|        Web Server|      Uk|  Critical|    2|\n",
      "|{2024-02-17 17:15...|   Database Server|      US|  Critical|    2|\n",
      "|{2024-02-17 17:15...|Application Server|      Uk|  Critical|    1|\n",
      "|{2024-02-17 17:15...|Application Server|      US|      Info|    3|\n",
      "|{2024-02-17 17:10...|        Web Server|      Uk|  Critical|    1|\n",
      "|{2024-02-17 17:15...|        Web Server|   India|      Info|    2|\n",
      "|{2024-02-17 17:15...|   Database Server|      Uk|   Warning|    1|\n",
      "|{2024-02-17 17:10...|Application Server|   India|      Info|    1|\n",
      "|{2024-02-17 17:15...|   Database Server|      US|   Warning|    1|\n",
      "|{2024-02-17 17:15...|   Database Server|      Uk|  Critical|    1|\n",
      "|{2024-02-17 17:15...|Application Server|      Uk|   Warning|    1|\n",
      "|{2024-02-17 17:15...|   Database Server|      US|      Info|    2|\n",
      "|{2024-02-17 17:15...|        Web Server|      Uk|      Info|    1|\n",
      "|{2024-02-17 17:15...|        Web Server|   India|  Critical|    2|\n",
      "|{2024-02-17 17:15...|        Web Server|      US|  Critical|    4|\n",
      "|{2024-02-17 17:15...|Application Server|   India|      Info|    3|\n",
      "|{2024-02-17 17:15...|Application Server|      US|  Critical|    1|\n",
      "|{2024-02-17 17:15...|        Web Server|      US|      Info|    2|\n",
      "+--------------------+------------------+--------+----------+-----+\n",
      "\n"
     ]
    }
   ],
   "source": [
    "query = grouped_alerts.writeStream.outputMode(\"complete\").format(\"console\").start()\n",
    "query.awaitTermination()"
   ]
  },
  {
   "cell_type": "code",
   "execution_count": null,
   "id": "3a9a7081-8a69-4301-8bb0-09c0677f886d",
   "metadata": {},
   "outputs": [],
   "source": []
  }
 ],
 "metadata": {
  "kernelspec": {
   "display_name": "Python 3 (ipykernel)",
   "language": "python",
   "name": "python3"
  },
  "language_info": {
   "codemirror_mode": {
    "name": "ipython",
    "version": 3
   },
   "file_extension": ".py",
   "mimetype": "text/x-python",
   "name": "python",
   "nbconvert_exporter": "python",
   "pygments_lexer": "ipython3",
   "version": "3.10.12"
  }
 },
 "nbformat": 4,
 "nbformat_minor": 5
}
